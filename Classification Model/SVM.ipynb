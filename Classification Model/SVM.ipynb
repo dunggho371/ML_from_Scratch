{
 "cells": [
  {
   "cell_type": "markdown",
   "id": "58a4a864",
   "metadata": {},
   "source": [
    "# Import Libraries"
   ]
  },
  {
   "cell_type": "code",
   "execution_count": 1,
   "id": "daca0aac",
   "metadata": {},
   "outputs": [],
   "source": [
    "import numpy as np\n",
    "import pandas as pd\n",
    "import warnings\n",
    "warnings.filterwarnings('ignore')"
   ]
  },
  {
   "cell_type": "markdown",
   "id": "185a20bb",
   "metadata": {},
   "source": [
    "## Read Data"
   ]
  },
  {
   "cell_type": "code",
   "execution_count": 2,
   "id": "13719cf4",
   "metadata": {},
   "outputs": [
    {
     "data": {
      "text/html": [
       "<div>\n",
       "<style scoped>\n",
       "    .dataframe tbody tr th:only-of-type {\n",
       "        vertical-align: middle;\n",
       "    }\n",
       "\n",
       "    .dataframe tbody tr th {\n",
       "        vertical-align: top;\n",
       "    }\n",
       "\n",
       "    .dataframe thead th {\n",
       "        text-align: right;\n",
       "    }\n",
       "</style>\n",
       "<table border=\"1\" class=\"dataframe\">\n",
       "  <thead>\n",
       "    <tr style=\"text-align: right;\">\n",
       "      <th></th>\n",
       "      <th>ph</th>\n",
       "      <th>Hardness</th>\n",
       "      <th>Solids</th>\n",
       "      <th>Chloramines</th>\n",
       "      <th>Sulfate</th>\n",
       "      <th>Conductivity</th>\n",
       "      <th>Organic_carbon</th>\n",
       "      <th>Trihalomethanes</th>\n",
       "      <th>Turbidity</th>\n",
       "      <th>Potability</th>\n",
       "    </tr>\n",
       "  </thead>\n",
       "  <tbody>\n",
       "    <tr>\n",
       "      <th>0</th>\n",
       "      <td>7.051786</td>\n",
       "      <td>0.260052</td>\n",
       "      <td>-0.143894</td>\n",
       "      <td>7.300212</td>\n",
       "      <td>0.960782</td>\n",
       "      <td>1.716721</td>\n",
       "      <td>10.379783</td>\n",
       "      <td>1.307553</td>\n",
       "      <td>2.963135</td>\n",
       "      <td>False</td>\n",
       "    </tr>\n",
       "    <tr>\n",
       "      <th>1</th>\n",
       "      <td>3.716080</td>\n",
       "      <td>-2.045396</td>\n",
       "      <td>-0.390888</td>\n",
       "      <td>6.635246</td>\n",
       "      <td>-0.001133</td>\n",
       "      <td>2.071157</td>\n",
       "      <td>15.180013</td>\n",
       "      <td>-0.637435</td>\n",
       "      <td>4.500656</td>\n",
       "      <td>False</td>\n",
       "    </tr>\n",
       "    <tr>\n",
       "      <th>2</th>\n",
       "      <td>8.099124</td>\n",
       "      <td>0.851044</td>\n",
       "      <td>-0.244666</td>\n",
       "      <td>9.275884</td>\n",
       "      <td>-0.001133</td>\n",
       "      <td>-0.090422</td>\n",
       "      <td>16.868637</td>\n",
       "      <td>0.002672</td>\n",
       "      <td>3.055934</td>\n",
       "      <td>False</td>\n",
       "    </tr>\n",
       "    <tr>\n",
       "      <th>3</th>\n",
       "      <td>8.316766</td>\n",
       "      <td>0.549745</td>\n",
       "      <td>-0.003657</td>\n",
       "      <td>8.059333</td>\n",
       "      <td>0.640702</td>\n",
       "      <td>-0.776798</td>\n",
       "      <td>18.436525</td>\n",
       "      <td>2.154434</td>\n",
       "      <td>4.628770</td>\n",
       "      <td>False</td>\n",
       "    </tr>\n",
       "    <tr>\n",
       "      <th>4</th>\n",
       "      <td>9.092223</td>\n",
       "      <td>-0.466673</td>\n",
       "      <td>-0.465295</td>\n",
       "      <td>6.546600</td>\n",
       "      <td>-0.645921</td>\n",
       "      <td>-0.340904</td>\n",
       "      <td>11.558279</td>\n",
       "      <td>-2.180838</td>\n",
       "      <td>4.075076</td>\n",
       "      <td>False</td>\n",
       "    </tr>\n",
       "    <tr>\n",
       "      <th>...</th>\n",
       "      <td>...</td>\n",
       "      <td>...</td>\n",
       "      <td>...</td>\n",
       "      <td>...</td>\n",
       "      <td>...</td>\n",
       "      <td>...</td>\n",
       "      <td>...</td>\n",
       "      <td>...</td>\n",
       "      <td>...</td>\n",
       "      <td>...</td>\n",
       "    </tr>\n",
       "    <tr>\n",
       "      <th>3168</th>\n",
       "      <td>6.069616</td>\n",
       "      <td>-0.296897</td>\n",
       "      <td>0.467229</td>\n",
       "      <td>7.747548</td>\n",
       "      <td>0.332854</td>\n",
       "      <td>-0.124148</td>\n",
       "      <td>12.067619</td>\n",
       "      <td>-0.377939</td>\n",
       "      <td>3.669712</td>\n",
       "      <td>True</td>\n",
       "    </tr>\n",
       "    <tr>\n",
       "      <th>3169</th>\n",
       "      <td>4.668102</td>\n",
       "      <td>-0.082362</td>\n",
       "      <td>2.917703</td>\n",
       "      <td>7.166639</td>\n",
       "      <td>0.724984</td>\n",
       "      <td>1.246841</td>\n",
       "      <td>13.894419</td>\n",
       "      <td>0.019648</td>\n",
       "      <td>4.435821</td>\n",
       "      <td>True</td>\n",
       "    </tr>\n",
       "    <tr>\n",
       "      <th>3170</th>\n",
       "      <td>7.808856</td>\n",
       "      <td>-0.086288</td>\n",
       "      <td>-0.539485</td>\n",
       "      <td>8.061362</td>\n",
       "      <td>-0.062391</td>\n",
       "      <td>-0.414841</td>\n",
       "      <td>19.903225</td>\n",
       "      <td>0.018435</td>\n",
       "      <td>2.798243</td>\n",
       "      <td>True</td>\n",
       "    </tr>\n",
       "    <tr>\n",
       "      <th>3171</th>\n",
       "      <td>9.419510</td>\n",
       "      <td>-0.629769</td>\n",
       "      <td>1.269127</td>\n",
       "      <td>7.350233</td>\n",
       "      <td>-0.062391</td>\n",
       "      <td>0.076256</td>\n",
       "      <td>11.039070</td>\n",
       "      <td>0.219951</td>\n",
       "      <td>3.298876</td>\n",
       "      <td>True</td>\n",
       "    </tr>\n",
       "    <tr>\n",
       "      <th>3172</th>\n",
       "      <td>5.126763</td>\n",
       "      <td>1.045565</td>\n",
       "      <td>-1.150433</td>\n",
       "      <td>6.303357</td>\n",
       "      <td>-0.062391</td>\n",
       "      <td>-0.285435</td>\n",
       "      <td>11.168946</td>\n",
       "      <td>0.704761</td>\n",
       "      <td>4.708659</td>\n",
       "      <td>True</td>\n",
       "    </tr>\n",
       "  </tbody>\n",
       "</table>\n",
       "<p>3173 rows × 10 columns</p>\n",
       "</div>"
      ],
      "text/plain": [
       "            ph  Hardness    Solids  Chloramines   Sulfate  Conductivity  \\\n",
       "0     7.051786  0.260052 -0.143894     7.300212  0.960782      1.716721   \n",
       "1     3.716080 -2.045396 -0.390888     6.635246 -0.001133      2.071157   \n",
       "2     8.099124  0.851044 -0.244666     9.275884 -0.001133     -0.090422   \n",
       "3     8.316766  0.549745 -0.003657     8.059333  0.640702     -0.776798   \n",
       "4     9.092223 -0.466673 -0.465295     6.546600 -0.645921     -0.340904   \n",
       "...        ...       ...       ...          ...       ...           ...   \n",
       "3168  6.069616 -0.296897  0.467229     7.747548  0.332854     -0.124148   \n",
       "3169  4.668102 -0.082362  2.917703     7.166639  0.724984      1.246841   \n",
       "3170  7.808856 -0.086288 -0.539485     8.061362 -0.062391     -0.414841   \n",
       "3171  9.419510 -0.629769  1.269127     7.350233 -0.062391      0.076256   \n",
       "3172  5.126763  1.045565 -1.150433     6.303357 -0.062391     -0.285435   \n",
       "\n",
       "      Organic_carbon  Trihalomethanes  Turbidity  Potability  \n",
       "0          10.379783         1.307553   2.963135       False  \n",
       "1          15.180013        -0.637435   4.500656       False  \n",
       "2          16.868637         0.002672   3.055934       False  \n",
       "3          18.436525         2.154434   4.628770       False  \n",
       "4          11.558279        -2.180838   4.075076       False  \n",
       "...              ...              ...        ...         ...  \n",
       "3168       12.067619        -0.377939   3.669712        True  \n",
       "3169       13.894419         0.019648   4.435821        True  \n",
       "3170       19.903225         0.018435   2.798243        True  \n",
       "3171       11.039070         0.219951   3.298876        True  \n",
       "3172       11.168946         0.704761   4.708659        True  \n",
       "\n",
       "[3173 rows x 10 columns]"
      ]
     },
     "execution_count": 2,
     "metadata": {},
     "output_type": "execute_result"
    }
   ],
   "source": [
    "df=pd.read_csv(\"class_data.csv\")\n",
    "df"
   ]
  },
  {
   "cell_type": "markdown",
   "id": "13f079da",
   "metadata": {},
   "source": [
    "### Split dataset"
   ]
  },
  {
   "cell_type": "code",
   "execution_count": 3,
   "id": "9fb0a63d",
   "metadata": {},
   "outputs": [],
   "source": [
    "X_train_chose =df[['ph','Sulfate','Hardness','Chloramines','Solids']]\n",
    "y_train_chose = df['Potability']"
   ]
  },
  {
   "cell_type": "markdown",
   "id": "32c5b874",
   "metadata": {},
   "source": [
    "## Label Encode"
   ]
  },
  {
   "cell_type": "code",
   "execution_count": 4,
   "id": "28263860",
   "metadata": {},
   "outputs": [],
   "source": [
    "from sklearn import preprocessing\n",
    "label_encoder = preprocessing.LabelEncoder()\n",
    "y_train_chose= label_encoder.fit_transform(y_train_chose)"
   ]
  },
  {
   "cell_type": "code",
   "execution_count": 5,
   "id": "014eaaf0",
   "metadata": {},
   "outputs": [],
   "source": [
    "from sklearn.model_selection import train_test_split\n",
    "\n",
    "X_train, X_test, y_train, y_test = train_test_split(X_train_chose,y_train_chose,test_size=0.2)"
   ]
  },
  {
   "cell_type": "markdown",
   "id": "88490db7",
   "metadata": {},
   "source": [
    "## Modeling"
   ]
  },
  {
   "cell_type": "code",
   "execution_count": 6,
   "id": "c4568ed2",
   "metadata": {},
   "outputs": [],
   "source": [
    "class SVM:\n",
    "    def __init__(self, learning_rate=0.001, lambda_param=0.01, num_iterations=1000):\n",
    "        self.learning_rate = learning_rate\n",
    "        self.lambda_param = lambda_param\n",
    "        self.num_iterations = num_iterations\n",
    "        self.weights = None\n",
    "        self.bias = None\n",
    "\n",
    "    def fit(self, X, y):\n",
    "        n_samples, n_features = X.shape\n",
    "\n",
    "        # Initialize parameters\n",
    "        self.weights = np.zeros(n_features)\n",
    "        self.bias = 0\n",
    "\n",
    "        # Gradient descent\n",
    "        for i in range(self.num_iterations):\n",
    "            for j in range(n_samples):\n",
    "                if y[j] * (np.dot(X[j], self.weights) - self.bias) >= 1:\n",
    "                    self.weights -= self.learning_rate * (2 * self.lambda_param * self.weights)\n",
    "                else:\n",
    "                    self.weights -= self.learning_rate * (2 * self.lambda_param * self.weights - np.dot(X[j], y[j]))\n",
    "                    self.bias -= self.learning_rate * y[j]\n",
    "\n",
    "    def predict(self, X):\n",
    "        linear_output = np.dot(X, self.weights) - self.bias\n",
    "        return np.sign(linear_output)"
   ]
  },
  {
   "cell_type": "code",
   "execution_count": 7,
   "id": "22ee45e8",
   "metadata": {},
   "outputs": [],
   "source": [
    "clf = SVM()\n",
    "clf.fit(X_train.values, y_train)\n",
    "predictions = clf.predict(X_test.values)"
   ]
  },
  {
   "cell_type": "code",
   "execution_count": 8,
   "id": "493fe90c",
   "metadata": {},
   "outputs": [
    {
     "data": {
      "text/plain": [
       "0.4125984251968504"
      ]
     },
     "execution_count": 8,
     "metadata": {},
     "output_type": "execute_result"
    }
   ],
   "source": [
    "from sklearn.metrics import accuracy_score\n",
    "\n",
    "accuracy = accuracy_score(y_test, predictions)\n",
    "accuracy"
   ]
  },
  {
   "cell_type": "code",
   "execution_count": 9,
   "id": "fbf9372e",
   "metadata": {},
   "outputs": [
    {
     "data": {
      "image/png": "[encoded data removed]",
      "text/plain": [
       "<Figure size 576x432 with 2 Axes>"
      ]
     },
     "metadata": {
      "needs_background": "light"
     },
     "output_type": "display_data"
    }
   ],
   "source": [
    "import matplotlib.pyplot as plt\n",
    "import seaborn as sns\n",
    "from sklearn.metrics import confusion_matrix\n",
    "conf_mat = confusion_matrix(y_test, predictions)\n",
    "fig, ax = plt.subplots(figsize=(8, 6))\n",
    "sns.heatmap(conf_mat, annot=True, cmap='Blues', fmt='g', ax=ax)\n",
    "\n",
    "# Set plot labels and title\n",
    "ax.set_xlabel('Predicted label')\n",
    "ax.set_ylabel('True label')\n",
    "ax.set_title('Confusion Matrix')\n",
    "plt.show()"
   ]
  },
  {
   "cell_type": "code",
   "execution_count": null,
   "id": "14390c03",
   "metadata": {},
   "outputs": [],
   "source": []
  }
 ],
 "metadata": {
  "kernelspec": {
   "display_name": "Python 3 (ipykernel)",
   "language": "python",
   "name": "python3"
  },
  "language_info": {
   "codemirror_mode": {
    "name": "ipython",
    "version": 3
   },
   "file_extension": ".py",
   "mimetype": "text/x-python",
   "name": "python",
   "nbconvert_exporter": "python",
   "pygments_lexer": "ipython3",
   "version": "3.9.12"
  }
 },
 "nbformat": 4,
 "nbformat_minor": 5
}
